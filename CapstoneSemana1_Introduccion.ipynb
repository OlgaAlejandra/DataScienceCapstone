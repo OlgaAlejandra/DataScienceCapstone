{
 "cells": [
  {
   "cell_type": "markdown",
   "id": "b4a24d7e-2f89-41c6-aa89-3f9d268a0dde",
   "metadata": {},
   "source": [
    "# La Batalla de los Vecindarios (Semana 1) - Introducción/Problema Comercial"
   ]
  },
  {
   "cell_type": "markdown",
   "id": "41e9a8ca-d992-419e-92c6-e2f362fdeeeb",
   "metadata": {},
   "source": [
    "Proyecto Final de Certificacion en Ciencia de Datos por IBM/Coursera presentado por Olga Ascue\n",
    "\n"
   ]
  },
  {
   "cell_type": "markdown",
   "id": "fcf6a922-6824-4ec6-b41e-8828acd3a56c",
   "metadata": {},
   "source": [
    "## Introducción"
   ]
  },
  {
   "cell_type": "markdown",
   "id": "6a9a20be-0cc0-44a5-b1c4-fdd55438b410",
   "metadata": {},
   "source": [
    "En este proyecto vamos a tratar de encontrar el mejor apartamento en alquiler debido a una oferta de trabajo en Toronto, Canadá. El proyecto está enfocado para las personas que esten en la búsqueda de apartamentos o casas accesibles en los múltiples vecindarios en Toronto. Además se busca rear un análisis de las características de las personas que están migrando a Toronto en busca del mejor vecindario como un análisis relativo entre los vecindarios. \n"
   ]
  },
  {
   "cell_type": "markdown",
   "id": "1110d1be-b0f3-4eb0-9f16-1e47f207a53d",
   "metadata": {},
   "source": [
    "\n",
    "Los aspectos más destacados incluyen el precio medio de la vivienda y una mejor escuela de acuerdo con las calificaciones, las tasas de criminalidad de esa área en particular, la conectividad vial, las condiciones climáticas, la buena gestión para una emergencia, los recursos hídricos tanto frescos como residuales y los excrementos transportados en alcantarillas e instalaciones recreativas."
   ]
  },
  {
   "cell_type": "code",
   "execution_count": null,
   "id": "ed184d3e-d061-45c5-9ae2-72315a720111",
   "metadata": {},
   "outputs": [],
   "source": []
  }
 ],
 "metadata": {
  "kernelspec": {
   "display_name": "Python",
   "language": "python",
   "name": "conda-env-python-py"
  },
  "language_info": {
   "codemirror_mode": {
    "name": "ipython",
    "version": 3
   },
   "file_extension": ".py",
   "mimetype": "text/x-python",
   "name": "python",
   "nbconvert_exporter": "python",
   "pygments_lexer": "ipython3",
   "version": "3.7.12"
  }
 },
 "nbformat": 4,
 "nbformat_minor": 5
}
