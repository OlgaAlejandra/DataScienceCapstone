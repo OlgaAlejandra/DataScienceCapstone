{
 "cells": [
  {
   "cell_type": "markdown",
   "id": "889e1694-8aab-4329-8afe-8814f5bde362",
   "metadata": {},
   "source": [
    "# La Batalla de los Vecindarios (Semana 1) - Datos"
   ]
  },
  {
   "cell_type": "markdown",
   "id": "f0a90217-54c2-4707-8067-719f1d8c4e94",
   "metadata": {},
   "source": [
    "Proyecto Final de Certificacion en Ciencia de Datos por IBM/Coursera presentado por Olga Ascue\n"
   ]
  },
  {
   "cell_type": "markdown",
   "id": "887497a6-ec0c-4c51-94e6-793b4793737b",
   "metadata": {},
   "source": [
    "## Datos\n"
   ]
  },
  {
   "cell_type": "markdown",
   "id": "b660a253-d7d1-41b9-945e-f40dd21a5a87",
   "metadata": {},
   "source": [
    "Necesitaremos datos sobre diferentes lugares en diferentes vecindarios de ese distrito específico. Para obtener esa información, utilizaremos la información de ubicación de \"Foursquare\". Este es un proveedor de datos de ubicación con información sobre todo tipo de lugares y eventos dentro de un área de interés.\n"
   ]
  },
  {
   "cell_type": "markdown",
   "id": "ac7b0552-4fd5-4dc3-bfcf-c115657b2e73",
   "metadata": {},
   "source": [
    "Ademas haremos uso de los datos que hemos visto previamente en el curso: https://en.wikipedia.org/w/index.php?title=List_of_postal_codes_of_Canada:_M&oldid=1011037969"
   ]
  },
  {
   "cell_type": "markdown",
   "id": "802bb759-55bb-4b73-9d14-901bf651581b",
   "metadata": {},
   "source": [
    "Haremos uso de los siguientes datos para el proyecto: Vecindario, Latitud y longitud del vecindario, Lugar, Nombre y Categoría\n"
   ]
  },
  {
   "cell_type": "code",
   "execution_count": null,
   "id": "0d7d13dd-6e7b-4fb8-921f-47207136b2c1",
   "metadata": {},
   "outputs": [],
   "source": []
  }
 ],
 "metadata": {
  "kernelspec": {
   "display_name": "Python",
   "language": "python",
   "name": "conda-env-python-py"
  },
  "language_info": {
   "codemirror_mode": {
    "name": "ipython",
    "version": 3
   },
   "file_extension": ".py",
   "mimetype": "text/x-python",
   "name": "python",
   "nbconvert_exporter": "python",
   "pygments_lexer": "ipython3",
   "version": "3.7.12"
  }
 },
 "nbformat": 4,
 "nbformat_minor": 5
}
